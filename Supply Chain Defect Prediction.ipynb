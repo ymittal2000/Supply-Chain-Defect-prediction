{
 "cells": [
  {
   "cell_type": "code",
   "execution_count": 17,
   "id": "ad98edad",
   "metadata": {},
   "outputs": [],
   "source": [
    "import pandas as pd\n",
    "import numpy as np\n",
    "from sklearn.model_selection import StratifiedShuffleSplit #import to have equal weigtage samples in training dataset\n",
    "from sklearn.tree import DecisionTreeRegressor # import for Decision Tree Algorithm\n",
    "import pickle\n",
    "from sklearn.preprocessing import StandardScaler\n",
    "from sklearn.svm import SVR #import for support vector regressor\n",
    "from sklearn.metrics import mean_squared_error  # import to calculate root mean square"
   ]
  },
  {
   "cell_type": "code",
   "execution_count": 18,
   "id": "dd958378",
   "metadata": {},
   "outputs": [],
   "source": [
    "SourceData=pd.read_excel(\"Supplier Past Data.xlsx\") # Load the data into Pandas DataFrame"
   ]
  },
  {
   "cell_type": "code",
   "execution_count": 19,
   "id": "c86fc17a",
   "metadata": {},
   "outputs": [],
   "source": [
    "SourceData[\"PO Category\"]=pd.cut(SourceData[\"Purchase Order Value\"],\n",
    "                                     bins=[0., 30000, 60000, 90000,\n",
    "np.inf],                                     \n",
    "labels=[1, 2, 3, 4])"
   ]
  },
  {
   "cell_type": "code",
   "execution_count": 20,
   "id": "5cd24461",
   "metadata": {},
   "outputs": [],
   "source": [
    "split = StratifiedShuffleSplit(n_splits=2, test_size=0.3)"
   ]
  },
  {
   "cell_type": "code",
   "execution_count": 21,
   "id": "9113155a",
   "metadata": {},
   "outputs": [],
   "source": [
    "for train_index, test_index in split.split(SourceData, SourceData[\"PO Category\"]):\n",
    "    strat_train_set = SourceData.loc[train_index]  # stratfied train dataset \n",
    "    strat_test_set = SourceData.loc[test_index] #stratified test dataset"
   ]
  },
  {
   "cell_type": "code",
   "execution_count": 22,
   "id": "a4d3c5e2",
   "metadata": {},
   "outputs": [],
   "source": [
    "for set_ in (strat_train_set, strat_test_set): \n",
    "    set_.drop(\"PO Category\", axis=1, inplace=True)"
   ]
  },
  {
   "cell_type": "code",
   "execution_count": 23,
   "id": "7a440a7b",
   "metadata": {},
   "outputs": [],
   "source": [
    "SourceData_train_independent= strat_train_set.drop([\"Defect Percent\"], axis=1)\n",
    "SourceData_train_dependent=strat_train_set[\"Defect Percent\"].copy()\n",
    "SourceData_test_independent= strat_test_set.drop([\"Defect Percent\"], axis=1)\n",
    "SourceData_test_dependent=strat_test_set[\"Defect Percent\"].copy()"
   ]
  },
  {
   "cell_type": "code",
   "execution_count": 24,
   "id": "59160116",
   "metadata": {},
   "outputs": [],
   "source": [
    "sc_X = StandardScaler()\n",
    "X_train=sc_X.fit_transform(SourceData_train_independent.values)\n",
    "y_train=SourceData_train_dependent\n",
    "pickle.dump(sc_X, open(\"Scaler.sav\", 'wb'))\n",
    "X_test=sc_X.fit_transform(SourceData_test_independent.values)\n",
    "y_test=SourceData_test_dependent"
   ]
  },
  {
   "cell_type": "code",
   "execution_count": 25,
   "id": "a7ea7b1f",
   "metadata": {},
   "outputs": [],
   "source": [
    "svm_reg = SVR(kernel=\"linear\", C=1)\n",
    "svm_reg.fit(X_train, y_train)\n",
    "filename = 'SVR_TrainedModel.sav'\n",
    "pickle.dump(svm_reg, open(filename, 'wb'),protocol=-1)"
   ]
  },
  {
   "cell_type": "code",
   "execution_count": 26,
   "id": "e825ea84",
   "metadata": {},
   "outputs": [
    {
     "name": "stdout",
     "output_type": "stream",
     "text": [
      "The score of the Support  Vector model is 0.05\n",
      "MSE  of  Vector  model is  0.22\n",
      "RMSE of  Support  Vector  Learning model is  0.47\n"
     ]
    }
   ],
   "source": [
    "decision_predictions = svm_reg.predict(X_train)\n",
    "Score = (svm_reg.score(X_train, y_train))  # It provides the R-Squared Value\n",
    "print ( \"The score of the Support  Vector model is\", round(Score,2))\n",
    "lin_mse = mean_squared_error(y_train, decision_predictions)\n",
    "print(\"MSE  of  Vector  model is \", round(lin_mse,2))\n",
    "lin_rmse = mean_squared_error(y_train, decision_predictions, squared=False)\n",
    "print(\"RMSE of  Support  Vector  Learning model is \", round(lin_rmse,2))"
   ]
  },
  {
   "cell_type": "code",
   "execution_count": 27,
   "id": "15a87719",
   "metadata": {
    "scrolled": true
   },
   "outputs": [
    {
     "name": "stdout",
     "output_type": "stream",
     "text": [
      "The score of model Decision Tree model is  1.0\n",
      "MSE of Decision Tree model is  0.0\n",
      "RMSE of Decision Tree model is  0.47\n"
     ]
    }
   ],
   "source": [
    "tree_reg = DecisionTreeRegressor()\n",
    "tree_reg.fit(X_train, y_train)\n",
    "filename = 'DecisionTree_TrainedModel.sav'\n",
    "pickle.dump(tree_reg, open(filename, 'wb'),protocol=-1)\n",
    "predictions = tree_reg.predict(X_train) \n",
    "Score = (tree_reg.score(X_train, y_train))  # It provides the R-Squared Value\n",
    "print ( \"The score of model Decision Tree model is \", round(Score,2))\n",
    "lin_mse = mean_squared_error(y_train, predictions)\n",
    "print(\"MSE of Decision Tree model is \", round(lin_mse,2))\n",
    "lin_rmse = mean_squared_error(y_train, decision_predictions, squared=False)\n",
    "print(\"RMSE of Decision Tree model is \", round(lin_rmse,2))"
   ]
  },
  {
   "cell_type": "code",
   "execution_count": 28,
   "id": "bae04a06",
   "metadata": {},
   "outputs": [],
   "source": [
    "test_predictions = tree_reg.predict(X_test)\n",
    "test_decision_predictions = svm_reg.predict(X_test)"
   ]
  },
  {
   "cell_type": "code",
   "execution_count": 29,
   "id": "f448c009",
   "metadata": {},
   "outputs": [
    {
     "name": "stdout",
     "output_type": "stream",
     "text": [
      "The prediction by Decision Treemodel is  [0.26]\n"
     ]
    }
   ],
   "source": [
    "import pickle\n",
    "import pandas as pd \n",
    "testdata=pd.read_excel(\"Defect Predict.xlsx\") # Load the test data\n",
    "sc_X = pickle.load(open('Scaler.sav', 'rb'))  # Load the pickle\n",
    "loaded_model = pickle.load(open('DecisionTree_TrainedModel.sav', 'rb')) # load the trained model\n",
    "X_test=sc_X.transform(testdata.values) # scale the independent variables for test data\n",
    "decision_predictions = loaded_model.predict(X_test) # Predict the value of dependent variable\n",
    "print(\"The prediction by Decision Treemodel is \" , decision_predictions )"
   ]
  },
  {
   "cell_type": "code",
   "execution_count": null,
   "id": "7c0330a3",
   "metadata": {},
   "outputs": [],
   "source": []
  }
 ],
 "metadata": {
  "kernelspec": {
   "display_name": "Python 3 (ipykernel)",
   "language": "python",
   "name": "python3"
  },
  "language_info": {
   "codemirror_mode": {
    "name": "ipython",
    "version": 3
   },
   "file_extension": ".py",
   "mimetype": "text/x-python",
   "name": "python",
   "nbconvert_exporter": "python",
   "pygments_lexer": "ipython3",
   "version": "3.9.7"
  }
 },
 "nbformat": 4,
 "nbformat_minor": 5
}
